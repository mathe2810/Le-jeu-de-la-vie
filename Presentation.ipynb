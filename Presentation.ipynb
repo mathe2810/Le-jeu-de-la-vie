{
 "cells": [
  {
   "metadata": {},
   "cell_type": "markdown",
   "source": [
    "<h1 style=\"color: red ;background-color: grey\">Projet Python ING3 APP - Game of Life</h1>\n",
    "\n",
    "## Sommaire\n",
    "# 1. Description générale\n",
    "# 2. Cahier des charges\n",
    "#     1. Partie Moteur de Jeu\n",
    "#     2. Partie Interface\n",
    "#     3. Partie Sauvegarde et Chargement\n",
    "#     4. Partie Optimisation\n",
    "#     5. Partie Présentation et Analyse de données\n"
   ]
  },
  {
   "cell_type": "markdown",
   "source": [
    "\n",
    "# Le Jeu de la Vie\n",
    "## Une création de John Conway\n",
    "\n",
    "> Le Jeu de la Vie** est un automate cellulaire qui repose sur des règles simples mais produit des dynamiques complexes.\n",
    "> Inventé en 1970, il illustre comment des comportements imprévisibles peuvent émerger à partir de règles déterministes.\n",
    "## Regles du jeu de la vie:\n",
    "<ul>\n",
    "<li style=\"font-size: 20px\">Survie : Une cellule vivante reste en vie avec 2 ou 3 voisins vivants.\n",
    "<li style=\"font-size: 20px\">Mort : Une cellule vivante meurt si elle a moins de 2 ou plus de 3 voisins vivants.\n",
    "<li style=\"font-size: 20px\">Naissance : Une cellule morte devient vivante avec exactement 3 voisins vivants.\n",
    "</ul>\n",
    "\n",
    "### Exemples de structures célèbres :\n",
    "\n",
    "| Type | Description                              | Illustration                        |\n",
    "|----------------------------|------------------------------------------|-------------------------------------|\n",
    "| **Still Life**             | Formes constantes                        | ![Still Life](Image/Constant.gif)   |\n",
    "| **Oscillateurs**           | Structures qui oscillent périodiquement  | ![Oscillator](Image/Oscillator.gif) |\n",
    "| **Gliders**                | Structures qui se déplacent              | ![Glider](Image/GliderTot.gif)      |\n",
    "| **GunGliders**             | Structures qui se déplacent et qui créer | ![Glider](Image/GunGlider.gif)      |\n",
    "\n"
   ],
   "metadata": {
    "collapsed": false
   }
  },
  {
   "cell_type": "code",
   "source": [
    "import ipywidgets as widgets\n",
    "from IPython.display import display, Javascript\n",
    "\n",
    "# Fonction pour masquer la cellule de code\n",
    "def hide_code_cell():\n",
    "    display(Javascript('''\n",
    "        var cells = Jupyter.notebook.get_cells();\n",
    "        var cell = cells[cells.length];  // Sélectionne la dernière cellule\n",
    "        cell.element.find(\".input\").hide();  // Cache la partie de la cellule contenant le code\n",
    "    '''))\n",
    "\n",
    "# Fonction d'explication des règles du jeu de la vie\n",
    "def explain_rules(rule):\n",
    "    explanations = {\n",
    "        \"Survie\": \"Une cellule vivante reste vivante si elle a 2 ou 3 voisins vivants.\",\n",
    "        \"Mort\": \"Une cellule vivante meurt si elle a moins de 2 ou plus de 3 voisins vivants.\",\n",
    "        \"Naissance\": \"Une cellule morte devient vivante si elle a exactement 3 voisins vivants.\"\n",
    "    }\n",
    "    return explanations[rule]\n",
    "\n",
    "# Création du widget de sélection des règles\n",
    "rule_selector = widgets.Dropdown(\n",
    "    options=[\"Survie\", \"Mort\", \"Naissance\"],\n",
    "    description='Règle:'\n",
    ")\n",
    "\n",
    "output = widgets.Output()\n",
    "\n",
    "# Mise à jour de l'explication en fonction de la sélection de la règle\n",
    "def update_explanation(change):\n",
    "    with output:\n",
    "        output.clear_output()\n",
    "        print(explain_rules(change['new']))\n",
    "\n",
    "rule_selector.observe(update_explanation, names='value')\n",
    "\n",
    "# Affichage des widgets\n",
    "display(rule_selector, output)\n",
    "\n",
    "# Ajout d'un bouton pour masquer le code\n",
    "hide_button = widgets.Button(description=\"Masquer le code\")\n",
    "\n",
    "# Fonction pour cacher la cellule de code au clic du bouton\n",
    "def on_hide_button_click(b):\n",
    "    hide_code_cell()\n",
    "\n",
    "hide_button.on_click(on_hide_button_click)\n",
    "display(hide_button)\n",
    "\n",
    "\n"
   ],
   "metadata": {
    "collapsed": false,
    "ExecuteTime": {
     "end_time": "2024-11-19T13:56:25.213399Z",
     "start_time": "2024-11-19T13:56:25.183409Z"
    }
   },
   "outputs": [
    {
     "data": {
      "text/plain": [
       "Dropdown(description='Règle:', options=('Survie', 'Mort', 'Naissance'), value='Survie')"
      ],
      "application/vnd.jupyter.widget-view+json": {
       "version_major": 2,
       "version_minor": 0,
       "model_id": "8cf566e0ae0d4591a066a5d5b3e7ebf7"
      }
     },
     "metadata": {},
     "output_type": "display_data"
    },
    {
     "data": {
      "text/plain": [
       "Output()"
      ],
      "application/vnd.jupyter.widget-view+json": {
       "version_major": 2,
       "version_minor": 0,
       "model_id": "249d367083e6432788deb7f6b91f75f4"
      }
     },
     "metadata": {},
     "output_type": "display_data"
    },
    {
     "data": {
      "text/plain": [
       "Button(description='Masquer le code', style=ButtonStyle())"
      ],
      "application/vnd.jupyter.widget-view+json": {
       "version_major": 2,
       "version_minor": 0,
       "model_id": "8618cf773e364e8d82306821a195f56c"
      }
     },
     "metadata": {},
     "output_type": "display_data"
    }
   ],
   "execution_count": 8
  },
  {
   "metadata": {},
   "cell_type": "code",
   "outputs": [],
   "execution_count": null,
   "source": ""
  }
 ],
 "metadata": {
  "kernelspec": {
   "display_name": "Python 3",
   "language": "python",
   "name": "python3"
  },
  "language_info": {
   "codemirror_mode": {
    "name": "ipython",
    "version": 2
   },
   "file_extension": ".py",
   "mimetype": "text/x-python",
   "name": "python",
   "nbconvert_exporter": "python",
   "pygments_lexer": "ipython2",
   "version": "2.7.6"
  }
 },
 "nbformat": 4,
 "nbformat_minor": 0
}
