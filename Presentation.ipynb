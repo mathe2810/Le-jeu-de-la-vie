{
 "cells": [
  {
   "metadata": {},
   "cell_type": "markdown",
   "source": [
    "<script>\n",
    "  var code_show = false; \n",
    "  function toggleCode() {\n",
    "    code_show = !code_show; \n",
    "    var code_cells = document.getElementsByClassName('code_cell');\n",
    "    for (var i = 0; i < code_cells.length; i++) {\n",
    "      code_cells[i].style.display = code_show ? 'block' : 'none';\n",
    "    }\n",
    "  }\n",
    "  toggleCode();\n",
    "</script>\n",
    "\n",
    "<button onclick=\"toggleCode()\">Afficher/Masquer le code</button>\n"
   ]
  },
  {
   "metadata": {},
   "cell_type": "markdown",
   "source": [
    "<h1 style=\"color='red'\">Projet Python ING3 APP - Game of Life</h1>\n",
    "\n",
    "# ## Sommaire\n",
    "# 1. Description générale\n",
    "# 2. Cahier des charges\n",
    "#     1. Partie Moteur de Jeu\n",
    "#     2. Partie Interface\n",
    "#     3. Partie Sauvegarde et Chargement\n",
    "#     4. Partie Optimisation\n",
    "#     5. Partie Présentation et Analyse de données\n"
   ]
  },
  {
   "cell_type": "markdown",
   "source": [
    "\n",
    "# Le Jeu de la Vie\n",
    "## Une création de John Conway\n",
    "\n",
    "> Le Jeu de la Vie** est un automate cellulaire qui repose sur des règles simples mais produit des dynamiques complexes.\n",
    "> Inventé en 1970, il illustre comment des comportements imprévisibles peuvent émerger à partir de règles déterministes.\n",
    "\n",
    "### Les règles :\n",
    "1. **Survie** : Une cellule vivante reste en vie avec 2 ou 3 voisins vivants.\n",
    "2. **Mort** : Une cellule vivante meurt si elle a moins de 2 ou plus de 3 voisins vivants.\n",
    "3. **Naissance** : Une cellule morte devient vivante avec exactement 3 voisins vivants.\n",
    "\n",
    "### Exemples de structures célèbres :\n",
    "\n",
    "| Type             | Description                              | Illustration                        |\n",
    "|------------------|------------------------------------------|-------------------------------------|\n",
    "| **Still Life**   | Formes constantes                        | ![Still Life](Image/Constant.gif)   |\n",
    "| **Oscillateurs** | Structures qui oscillent périodiquement  | ![Oscillator](Image/Oscillator.gif) |\n",
    "| **Gliders**      | Structures qui se déplacent              | ![Glider](Image/GliderTot.gif)      |\n",
    "| **GunGliders**   | Structures qui se déplacent et qui créer | ![Glider](Image/GunGlider.gif)      |\n",
    "\n"
   ],
   "metadata": {
    "collapsed": false
   }
  },
  {
   "cell_type": "code",
   "source": [
    "import ipywidgets as widgets\n",
    "from IPython.display import display\n",
    "\n",
    "\n",
    "def explain_rules(rule):\n",
    "    explanations = {\n",
    "        \"Survie\": \"Une cellule vivante reste vivante si elle a 2 ou 3 voisins vivants.\",\n",
    "        \"Mort\": \"Une cellule vivante meurt si elle a moins de 2 ou plus de 3 voisins vivants.\",\n",
    "        \"Naissance\": \"Une cellule morte devient vivante si elle a exactement 3 voisins vivants.\"\n",
    "    }\n",
    "    return explanations[rule]\n",
    "\n",
    "rule_selector = widgets.Dropdown(\n",
    "    options=[\"Survie\", \"Mort\", \"Naissance\"],\n",
    "    description='Règle:'\n",
    ")\n",
    "\n",
    "output = widgets.Output()\n",
    "\n",
    "def update_explanation(change):\n",
    "    with output:\n",
    "        output.clear_output()\n",
    "        print(explain_rules(change['new']))\n",
    "\n",
    "rule_selector.observe(update_explanation, names='value')\n",
    "display(rule_selector, output)\n",
    "\n"
   ],
   "metadata": {
    "collapsed": false,
    "ExecuteTime": {
     "end_time": "2024-11-19T12:32:44.597357Z",
     "start_time": "2024-11-19T12:32:44.568187Z"
    }
   },
   "outputs": [
    {
     "data": {
      "text/plain": [
       "Dropdown(description='Règle:', options=('Survie', 'Mort', 'Naissance'), value='Survie')"
      ],
      "application/vnd.jupyter.widget-view+json": {
       "version_major": 2,
       "version_minor": 0,
       "model_id": "f6645852ea324183becb76f3007e66de"
      }
     },
     "metadata": {},
     "output_type": "display_data"
    },
    {
     "data": {
      "text/plain": [
       "Output()"
      ],
      "application/vnd.jupyter.widget-view+json": {
       "version_major": 2,
       "version_minor": 0,
       "model_id": "d3256b155c7045f1accc8e7a8d5b2559"
      }
     },
     "metadata": {},
     "output_type": "display_data"
    },
    {
     "data": {
      "text/plain": [
       "<IPython.core.display.HTML object>"
      ],
      "text/html": [
       "\n",
       "<style>\n",
       "    div.input {\n",
       "        display: none;\n",
       "    }\n",
       "</style>\n"
      ]
     },
     "execution_count": 5,
     "metadata": {},
     "output_type": "execute_result"
    }
   ],
   "execution_count": 5
  },
  {
   "cell_type": "code",
   "execution_count": null,
   "metadata": {
    "collapsed": true
   },
   "outputs": [],
   "source": [
    "# ### A. Partie Moteur de Jeu\n",
    "# In[1]:\n",
    "# Importation des bibliothèques nécessaires\n",
    "\n"
   ]
  },
  {
   "cell_type": "code",
   "execution_count": null,
   "outputs": [],
   "source": [
    "# ### B. Partie Interface\n",
    "\n",
    "# In[2]:\n"
   ],
   "metadata": {
    "collapsed": false
   }
  },
  {
   "cell_type": "code",
   "execution_count": null,
   "outputs": [],
   "source": [
    "# ### C. Partie Sauvegarde et Chargement\n",
    "\n",
    "# In[3]:\n"
   ],
   "metadata": {
    "collapsed": false
   }
  },
  {
   "cell_type": "code",
   "execution_count": null,
   "outputs": [],
   "source": [
    "# ### D. Partie Optimisation\n",
    "\n",
    "# In[4]:\n"
   ],
   "metadata": {
    "collapsed": false
   }
  },
  {
   "cell_type": "code",
   "execution_count": null,
   "outputs": [],
   "source": [
    "# ### E. Partie Présentation et Analyse de données\n",
    "\n",
    "# In[5]:\n"
   ],
   "metadata": {
    "collapsed": false
   }
  }
 ],
 "metadata": {
  "kernelspec": {
   "display_name": "Python 3",
   "language": "python",
   "name": "python3"
  },
  "language_info": {
   "codemirror_mode": {
    "name": "ipython",
    "version": 2
   },
   "file_extension": ".py",
   "mimetype": "text/x-python",
   "name": "python",
   "nbconvert_exporter": "python",
   "pygments_lexer": "ipython2",
   "version": "2.7.6"
  }
 },
 "nbformat": 4,
 "nbformat_minor": 0
}
